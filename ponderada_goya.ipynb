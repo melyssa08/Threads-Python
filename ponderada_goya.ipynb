{
  "nbformat": 4,
  "nbformat_minor": 0,
  "metadata": {
    "colab": {
      "provenance": []
    },
    "kernelspec": {
      "name": "python3",
      "display_name": "Python 3"
    },
    "language_info": {
      "name": "python"
    }
  },
  "cells": [
    {
      "cell_type": "markdown",
      "source": [
        "# Instruções\n",
        "\n",
        "Rode todas as células na ordem;"
      ],
      "metadata": {
        "id": "P50cCS87zlt5"
      }
    },
    {
      "cell_type": "code",
      "source": [
        "from threading import Thread, Lock"
      ],
      "metadata": {
        "id": "xW6wqMjSYuCW"
      },
      "execution_count": 50,
      "outputs": []
    },
    {
      "cell_type": "markdown",
      "source": [
        "## Dois Threads\n",
        "\n",
        "Resolvendo o exercício com dois threads, cada um recebe uma sub-lista, e no final da execução do programa principal se obtém a soma dessas sub-listas."
      ],
      "metadata": {
        "id": "-mo8wzMLZ1xt"
      }
    },
    {
      "cell_type": "code",
      "source": [
        "# Contador do resultado final\n",
        "result = 0"
      ],
      "metadata": {
        "id": "xZVB0onxXlNz"
      },
      "execution_count": 51,
      "outputs": []
    },
    {
      "cell_type": "code",
      "source": [
        "# Inicialização do Lock\n",
        "lock = Lock()"
      ],
      "metadata": {
        "id": "1TksSBu1Xoim"
      },
      "execution_count": 52,
      "outputs": []
    },
    {
      "cell_type": "code",
      "source": [
        "# Define a função sum_list para calcular a soma dos elementos de uma parte da lista\n",
        "def sum_list(part):\n",
        "    # Declara a variável global result para poder modificá-la dentro da função\n",
        "    global result\n",
        "\n",
        "    # Calcula a soma dos números na parte da lista fornecida\n",
        "    sum_numbers_part = sum(part)\n",
        "\n",
        "    # Usa um lock para garantir que a atualização da variável global seja thread-safe\n",
        "    with lock:\n",
        "        # Adiciona a soma calculada à variável global result\n",
        "        result += sum_numbers_part"
      ],
      "metadata": {
        "id": "RQWzn696Xtit"
      },
      "execution_count": 53,
      "outputs": []
    },
    {
      "cell_type": "code",
      "source": [
        "list_of_numbers = [2, 3, 4, 5]"
      ],
      "metadata": {
        "id": "m2MuUDusXwop"
      },
      "execution_count": 54,
      "outputs": []
    },
    {
      "cell_type": "code",
      "source": [
        "# Calcula o índice do meio da lista de números\n",
        "mid = len(list_of_numbers) // 2\n",
        "\n",
        "# Divide a lista de números em duas partes, do início até o índice do meio (exclusive) para a primeira parte\n",
        "list_part_one = list_of_numbers[:mid]\n",
        "\n",
        "# Divide a lista de números em duas partes, do índice do meio até o final para a segunda parte\n",
        "list_part_two = list_of_numbers[mid:]"
      ],
      "metadata": {
        "id": "TsIMZD6xXzKM"
      },
      "execution_count": 55,
      "outputs": []
    },
    {
      "cell_type": "code",
      "source": [
        "# Criação da primeira thread que irá calcular a soma dos elementos da primeira parte da lista\n",
        "first_thread = Thread(target=sum_list, args=(list_part_one,))\n",
        "\n",
        "# Criação da segunda thread que irá calcular a soma dos elementos da segunda parte da lista\n",
        "second_thread = Thread(target=sum_list, args=(list_part_two,))\n",
        "\n",
        "# Inicia a execução da primeira thread\n",
        "first_thread.start()\n",
        "\n",
        "# Inicia a execução da segunda thread\n",
        "second_thread.start()\n",
        "\n",
        "# Aguarda até que a primeira thread termine sua execução\n",
        "first_thread.join()\n",
        "\n",
        "# Aguarda até que a segunda thread termine sua execução\n",
        "second_thread.join()"
      ],
      "metadata": {
        "id": "Z1rC563OX3kT"
      },
      "execution_count": 56,
      "outputs": []
    },
    {
      "cell_type": "markdown",
      "source": [
        "## Três Threads ou Mais"
      ],
      "metadata": {
        "id": "RFfh71ngaPXT"
      }
    },
    {
      "cell_type": "code",
      "source": [
        "# Contador do resultado final\n",
        "result_three_more = 0\n",
        "\n",
        "# Inicialização do Lock\n",
        "lock = Lock()"
      ],
      "metadata": {
        "id": "WmhazwFVgGe0"
      },
      "execution_count": 182,
      "outputs": []
    },
    {
      "cell_type": "code",
      "source": [
        "# Define a função sum_list2, que será usada para calcular a soma de uma parte da lista\n",
        "def sum_list2(part):\n",
        "  # Declara a variável global result_three_more para poder modificá-la dentro da função\n",
        "  global result_three_more\n",
        "\n",
        "  # Calcula a soma dos números na parte da lista fornecida\n",
        "  sum_numbers_part = sum(part)\n",
        "\n",
        "  # Usa um lock para garantir que a atualização da variável global seja thread-safe\n",
        "  with lock:\n",
        "    # Adiciona a soma calculada à variável global result_three_more\n",
        "    result_three_more += sum_numbers_part"
      ],
      "metadata": {
        "id": "CrNIhyOggDrN"
      },
      "execution_count": 183,
      "outputs": []
    },
    {
      "cell_type": "code",
      "source": [
        "# Lista que será passadas como input\n",
        "list_numbers_test2 = [3,4,5,2,5,6,7,8,1]"
      ],
      "metadata": {
        "id": "27lQ_Y2CgM86"
      },
      "execution_count": 184,
      "outputs": []
    },
    {
      "cell_type": "code",
      "source": [
        "# Função principal para somar elementos da lista usando múltiplas threads\n",
        "def sum_all(quantitie_thread, list_input):\n",
        "  global result_three_more\n",
        "  threads = []  # Reinicializa a lista de threads para cada chamada da função\n",
        "  contador = 0  # Contador para rastrear o número de elementos na sublista atual\n",
        "  thread_sub_list = []  # Lista temporária para armazenar a sublista de elementos\n",
        "\n",
        "  # Itera sobre cada elemento da lista de entrada\n",
        "  for number in range(len(list_input)):\n",
        "    thread_sub_list.append(list_input[number])  # Adiciona o elemento à sublista atual\n",
        "    contador += 1  # Incrementa o contador\n",
        "\n",
        "    # Verifica se a sublista atingiu o tamanho desejado (quantitie_thread)\n",
        "    if contador == quantitie_thread:\n",
        "      # Cria uma nova thread para processar a sublista atual\n",
        "      thread = Thread(target=sum_list2, args=(thread_sub_list,))\n",
        "      threads.append(thread)  # Adiciona a thread à lista de threads\n",
        "      thread_sub_list = []  # Reseta a sublista para a próxima iteração\n",
        "      contador = 0  # Reseta o contador para a próxima sublista\n",
        "\n",
        "  # Inicia todas as threads criadas (agendamento)\n",
        "  for thread in threads:\n",
        "    thread.start()\n",
        "\n",
        "  # Aguarda todas as threads terminarem (sincronização)\n",
        "  for thread in threads:\n",
        "    thread.join()\n",
        "\n",
        "  return result_three_more"
      ],
      "metadata": {
        "id": "GCRvcgojaS_L"
      },
      "execution_count": 185,
      "outputs": []
    },
    {
      "cell_type": "code",
      "source": [
        "# Resultado da soma\n",
        "soma_total = sum_all(3, list_numbers_test2)\n",
        "print(soma_total)"
      ],
      "metadata": {
        "colab": {
          "base_uri": "https://localhost:8080/"
        },
        "id": "f9Voq9VtiQEv",
        "outputId": "e640d086-d431-470f-e018-2d7e9087adfe"
      },
      "execution_count": 186,
      "outputs": [
        {
          "output_type": "stream",
          "name": "stdout",
          "text": [
            "41\n"
          ]
        }
      ]
    },
    {
      "cell_type": "markdown",
      "source": [
        "## Testes\n",
        "\n",
        "Obs: Rode as células anteriores"
      ],
      "metadata": {
        "id": "Yp8t4FGsaeRd"
      }
    },
    {
      "cell_type": "code",
      "source": [
        "# Caso de teste 1\n",
        "\n",
        "# Contador do resultado final\n",
        "result_three_more = 0\n",
        "\n",
        "list_test_first = [1,2,3,4]\n",
        "result_one = sum_all(2, list_test_first)\n",
        "print(result_one) # Espera valor 10"
      ],
      "metadata": {
        "colab": {
          "base_uri": "https://localhost:8080/"
        },
        "id": "TK-rTlQWaike",
        "outputId": "4c03d7f4-7021-44e9-f3de-b4549fb2a564"
      },
      "execution_count": 179,
      "outputs": [
        {
          "output_type": "stream",
          "name": "stdout",
          "text": [
            "10\n"
          ]
        }
      ]
    },
    {
      "cell_type": "code",
      "source": [
        "# Caso de teste 2\n",
        "\n",
        "# Contador do resultado final\n",
        "result_three_more = 0\n",
        "\n",
        "list_test_second = [2,4,5,6,7,8]\n",
        "result_second = sum_all(3, list_test_second)\n",
        "print(result_second) # Espera valor 32"
      ],
      "metadata": {
        "colab": {
          "base_uri": "https://localhost:8080/"
        },
        "id": "m7vpTVTLuYeR",
        "outputId": "24dd58ca-bb18-46f7-82b9-1d0b9df36b6e"
      },
      "execution_count": 180,
      "outputs": [
        {
          "output_type": "stream",
          "name": "stdout",
          "text": [
            "32\n"
          ]
        }
      ]
    },
    {
      "cell_type": "code",
      "source": [
        "# Caso de teste 3\n",
        "\n",
        "# Contador do resultado final\n",
        "result_three_more = 0\n",
        "\n",
        "list_test_third = [2,4,5,6,7,8,9,10]\n",
        "result_third = sum_all(4, list_test_third)\n",
        "print(result_third) # Espera valor 51"
      ],
      "metadata": {
        "colab": {
          "base_uri": "https://localhost:8080/"
        },
        "id": "kuo1TlgPubNr",
        "outputId": "66bd663d-babe-4b59-d004-05e22fc68252"
      },
      "execution_count": 181,
      "outputs": [
        {
          "output_type": "stream",
          "name": "stdout",
          "text": [
            "51\n"
          ]
        }
      ]
    },
    {
      "cell_type": "markdown",
      "source": [
        "## Escalabilidade:\n",
        "\n",
        "A abordagem com threads é mais escalável devido à execução concorrente de partes do programa, compartilhamento eficiente de memória e menor overhead em comparação com processos separados. Ela permite paralelizar tarefas, melhorar a capacidade de resposta do sistema e escalá-lo vertical e horizontalmente. No entanto, enfrenta desafios como condições de corrida e acesso concorrente a recursos compartilhados, exigindo gerenciamento cuidadoso."
      ],
      "metadata": {
        "id": "on1TYrSKamqQ"
      }
    }
  ]
}